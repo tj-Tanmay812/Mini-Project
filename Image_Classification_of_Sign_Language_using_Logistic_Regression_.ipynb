{
  "nbformat": 4,
  "nbformat_minor": 0,
  "metadata": {
    "colab": {
      "name": "Image Classification of Sign Language using Logistic Regression .ipynb",
      "provenance": [],
      "collapsed_sections": [],
      "mount_file_id": "1or6T3M29ikE-HdXbchc-HtWjQEeHoDq-",
      "authorship_tag": "ABX9TyOV0Fep2a1pF0nDEVqGrdR1",
      "include_colab_link": true
    },
    "kernelspec": {
      "name": "python3",
      "display_name": "Python 3"
    },
    "language_info": {
      "name": "python"
    }
  },
  "cells": [
    {
      "cell_type": "markdown",
      "metadata": {
        "id": "view-in-github",
        "colab_type": "text"
      },
      "source": [
        "<a href=\"https://colab.research.google.com/github/tj-Tanmay812/Mini-Project/blob/main/Image_Classification_of_Sign_Language_using_Logistic_Regression_.ipynb\" target=\"_parent\"><img src=\"https://colab.research.google.com/assets/colab-badge.svg\" alt=\"Open In Colab\"/></a>"
      ]
    },
    {
      "cell_type": "markdown",
      "metadata": {
        "id": "zP5uvfrqdhCS"
      },
      "source": [
        "**Image Classification of Sign Language using Logistic Regression**"
      ]
    },
    {
      "cell_type": "markdown",
      "metadata": {
        "id": "fDEGmbZiBAmI"
      },
      "source": [
        "First we start by installing these libraries\n",
        "*   Numpy and Pandas — for data handling and processing\n",
        "\n",
        "*   PyTorch and Torchvision — for machine learning functions\n",
        "\n",
        "*   Matplotlib — for data visualization\n",
        "\n",
        "*   Jovian — for saving the code in the jovian.ml platform"
      ]
    },
    {
      "cell_type": "code",
      "metadata": {
        "id": "5W4MF8go5ChU"
      },
      "source": [
        "# Uncomment and run the commands below if imports fail\n",
        "# !conda install numpy pytorch torchvision cpuonly -c pytorch -y\n",
        "# !pip install matplotlib --upgrade --quiet\n",
        "!pip install jovian --upgrade --quiet"
      ],
      "execution_count": null,
      "outputs": []
    },
    {
      "cell_type": "markdown",
      "metadata": {
        "id": "m4UO2iw8DAtu"
      },
      "source": [
        "Now importing the above libraries"
      ]
    },
    {
      "cell_type": "code",
      "metadata": {
        "id": "GUD9WPUF5MW9"
      },
      "source": [
        "# Imports\n",
        "import torch\n",
        "import jovian\n",
        "import torchvision\n",
        "import string\n",
        "import torch.nn as nn\n",
        "import matplotlib.pyplot as plt\n",
        "import torch.nn.functional as F\n",
        "import pandas as pd\n",
        "import numpy as np\n",
        "from torch.utils.data import random_split\n",
        "from torch.utils.data import DataLoader\n",
        "from torch.utils.data import TensorDataset"
      ],
      "execution_count": null,
      "outputs": []
    },
    {
      "cell_type": "markdown",
      "metadata": {
        "id": "y-z6_1ipDs8r"
      },
      "source": [
        "**Pre-processing the data**"
      ]
    },
    {
      "cell_type": "code",
      "metadata": {
        "id": "8c__e3tO5l5S"
      },
      "source": [
        "# Hyperparameters\n",
        "batch_size = 256\n",
        "learning_rate = 1e-5\n",
        "\n",
        "# Other constants\n",
        "input_size = 28*28\n",
        "num_classes = 26"
      ],
      "execution_count": null,
      "outputs": []
    },
    {
      "cell_type": "markdown",
      "metadata": {
        "id": "CoyIwq_mEaBn"
      },
      "source": [
        "Now loading the training and testing dataset."
      ]
    },
    {
      "cell_type": "code",
      "metadata": {
        "id": "k-Lg-37z5xmx"
      },
      "source": [
        "import os\n",
        "# os.chdir('/kaggle/input/sign-language-mnist/')\n",
        "dataset = pd.read_csv('sign_mnist_train.csv')\n",
        "testdataset = pd.read_csv('sign_mnist_test.csv')\n",
        "num_rows = dataset.shape[0]\n",
        "# To map each label number to its corresponding letter\n",
        "letters = dict(enumerate(string.ascii_uppercase))"
      ],
      "execution_count": null,
      "outputs": []
    },
    {
      "cell_type": "markdown",
      "metadata": {
        "id": "KVn5J7BBFW0m"
      },
      "source": [
        "**Exploring the data.**"
      ]
    },
    {
      "cell_type": "markdown",
      "metadata": {
        "id": "qPjz05FKHM_h"
      },
      "source": [
        "Constructing a function to split the training and testing dataset to separate the labels from the pixel values"
      ]
    },
    {
      "cell_type": "code",
      "metadata": {
        "id": "c349_gIp5xxL"
      },
      "source": [
        "def dataframe_to_array(dataframe):\n",
        "    # Make a copy of the original dataframe\n",
        "    dataframe1 = dataframe.copy(deep=True)\n",
        "    # Extract input & outupts as numpy arrays\n",
        "    inputs_array = dataframe1.iloc[:, 1:].to_numpy()\n",
        "    targets_array = dataframe1['label'].to_numpy()\n",
        "    return inputs_array, targets_array"
      ],
      "execution_count": null,
      "outputs": []
    },
    {
      "cell_type": "code",
      "metadata": {
        "id": "vQ5_9Ywh8B7k"
      },
      "source": [
        "inputs_array, targets_array = dataframe_to_array(dataset)\n",
        "testinputs_array, testtargets_array = dataframe_to_array(testdataset)"
      ],
      "execution_count": null,
      "outputs": []
    },
    {
      "cell_type": "markdown",
      "metadata": {
        "id": "4iu7VcSSI1WA"
      },
      "source": [
        "Rshaping the array to (28x28) since the initial shape is just a row array."
      ]
    },
    {
      "cell_type": "code",
      "metadata": {
        "colab": {
          "base_uri": "https://localhost:8080/",
          "height": 282
        },
        "id": "apbEsJG08H31",
        "outputId": "b7b5ab5a-dd4b-4b30-84c3-12aa360d8ef3"
      },
      "source": [
        "pic1 = np.reshape(inputs_array[0], (28, 28))\n",
        "plt.imshow(pic1, cmap = \"gray\")\n",
        "print(\"Letter: \", letters[targets_array[0].item()])"
      ],
      "execution_count": null,
      "outputs": [
        {
          "output_type": "stream",
          "text": [
            "Letter:  D\n"
          ],
          "name": "stdout"
        },
        {
          "output_type": "display_data",
          "data": {
            "image/png": "[encoded data removed]",
            "text/plain": [
              "<Figure size 432x288 with 1 Axes>"
            ]
          },
          "metadata": {
            "tags": [],
            "needs_background": "light"
          }
        }
      ]
    },
    {
      "cell_type": "markdown",
      "metadata": {
        "id": "19bl5NK9KIZ4"
      },
      "source": [
        "As expected, the letter in the hand image is D. However, it is evident that the image is not clear due to its small resolution."
      ]
    },
    {
      "cell_type": "markdown",
      "metadata": {
        "id": "Gczs5s9AKbpi"
      },
      "source": [
        "Converting the training and testing input arrays to continuous float values since it allows our model for a more precise learning as compared to discrete values. "
      ]
    },
    {
      "cell_type": "markdown",
      "metadata": {
        "id": "AhXpPm8nK0RH"
      },
      "source": [
        "On the other hand converting the training and testing labels to long integers since the output of the model are indices to be used in accessing probability values."
      ]
    },
    {
      "cell_type": "code",
      "metadata": {
        "id": "_RGNYEwl8IJN"
      },
      "source": [
        "inputs = torch.from_numpy(inputs_array).float()\n",
        "targets = torch.from_numpy(targets_array).long()\n",
        "testinputs = torch.from_numpy(testinputs_array).float()\n",
        "testtargets = torch.from_numpy(testtargets_array).long()"
      ],
      "execution_count": null,
      "outputs": []
    },
    {
      "cell_type": "markdown",
      "metadata": {
        "id": "nodTB4NfLOaB"
      },
      "source": [
        "**Dataset and Data Loaders**"
      ]
    },
    {
      "cell_type": "markdown",
      "metadata": {
        "id": "BrK_9LRQL8G6"
      },
      "source": [
        "In this part the input arrays and label arrays are wrapped in a single object for both the training and testing datasets.The training dataset will also be split to a training and validation subset. In this case, 15% of the original training dataset will be placed in the validation subset."
      ]
    },
    {
      "cell_type": "markdown",
      "metadata": {
        "id": "n_fhMrt0NojX"
      },
      "source": [
        "The data loaded for the training dataset are also shuffled since there might be a chance that the elements in a batch are homogenous (i.e. all are from one category) which might lead to an inaccurate model."
      ]
    },
    {
      "cell_type": "code",
      "metadata": {
        "id": "1sMnJ8BU8IUI"
      },
      "source": [
        "# Training validation & test dataset\n",
        "dataset = TensorDataset(inputs, targets)\n",
        "testdataset = TensorDataset(testinputs, testtargets)\n",
        "\n",
        "# Let's use 15% of our training dataset to validate our model\n",
        "val_percent = 0.15\n",
        "val_size = int(num_rows * val_percent)\n",
        "train_size = num_rows - val_size\n",
        "train_ds, val_ds = random_split(dataset, [train_size, val_size])\n",
        "\n",
        "# Dataloaders\n",
        "train_loader = DataLoader(train_ds, batch_size, shuffle=True)\n",
        "val_loader = DataLoader(val_ds, batch_size*2)\n",
        "test_loader = DataLoader(testdataset, batch_size*2)"
      ],
      "execution_count": null,
      "outputs": []
    },
    {
      "cell_type": "markdown",
      "metadata": {
        "id": "Th96dFRPM5va"
      },
      "source": [
        "Looking at the first entry of the training dataset."
      ]
    },
    {
      "cell_type": "code",
      "metadata": {
        "colab": {
          "base_uri": "https://localhost:8080/",
          "height": 282
        },
        "id": "zb9MPwpr8PAu",
        "outputId": "1b60d959-f87d-410e-9edb-798faa352049"
      },
      "source": [
        "img, label = train_ds[0]\n",
        "plt.imshow(img.reshape((28,28)), cmap = 'gray')\n",
        "print(\"Letter: \", letters[label.item()])"
      ],
      "execution_count": null,
      "outputs": [
        {
          "output_type": "stream",
          "text": [
            "Letter:  I\n"
          ],
          "name": "stdout"
        },
        {
          "output_type": "display_data",
          "data": {
            "image/png": "[encoded data removed]",
            "text/plain": [
              "<Figure size 432x288 with 1 Axes>"
            ]
          },
          "metadata": {
            "tags": [],
            "needs_background": "light"
          }
        }
      ]
    },
    {
      "cell_type": "markdown",
      "metadata": {
        "id": "lwgypTNANy3f"
      },
      "source": [
        "Since this image is different from the image we saw earlier, there is an assurance that the datasets are randomly split and shuffled."
      ]
    },
    {
      "cell_type": "markdown",
      "metadata": {
        "id": "tSFR_XmmOU4h"
      },
      "source": [
        "**Constructing the Model**"
      ]
    },
    {
      "cell_type": "markdown",
      "metadata": {
        "id": "Ap4E_1PwOZp9"
      },
      "source": [
        "The function returns a tensor with 26 elements with values ranging from negative infinity to positive infinity. Well, technically not infinite since the values are limited by the number of bits allocated in the memory. As such, the values must be normalized between 0 and 1.0 inclusive.\n",
        "Here, I used PyTorch’s cross_entropy function that combines the negative log likelihood and softmax function to normalize the resulting values from the linear function."
      ]
    },
    {
      "cell_type": "markdown",
      "metadata": {
        "id": "3mcto4bWOnON"
      },
      "source": [
        "The code for constructing the image classification model is this."
      ]
    },
    {
      "cell_type": "code",
      "metadata": {
        "id": "rxZnkhjJ8PTC"
      },
      "source": [
        "class MnistModel(nn.Module):\n",
        "    def __init__(self):\n",
        "        super().__init__()\n",
        "        self.linear = nn.Linear(input_size, num_classes)\n",
        "        \n",
        "    def forward(self, xb):\n",
        "        xb = xb.reshape(-1, 784)\n",
        "        out = self.linear(xb)\n",
        "        return out\n",
        "    \n",
        "    def training_step(self, batch):\n",
        "        images, labels = batch \n",
        "        out = self(images)                  # Generate predictions\n",
        "        loss = F.cross_entropy(out, labels) # Calculate loss\n",
        "        return loss\n",
        "    \n",
        "    def validation_step(self, batch):\n",
        "        images, labels = batch \n",
        "        out = self(images)                    # Generate predictions\n",
        "        loss = F.cross_entropy(out, labels)   # Calculate loss\n",
        "        acc = accuracy(out, labels)           # Calculate accuracy\n",
        "        return {'val_loss': loss.detach(), 'val_acc': acc.detach()}\n",
        "        \n",
        "    def validation_epoch_end(self, outputs):\n",
        "        batch_losses = [x['val_loss'] for x in outputs]\n",
        "        epoch_loss = torch.stack(batch_losses).mean()   # Combine losses\n",
        "        batch_accs = [x['val_acc'] for x in outputs]\n",
        "        epoch_acc = torch.stack(batch_accs).mean()      # Combine accuracies\n",
        "        return {'val_loss': epoch_loss.item(), 'val_acc': epoch_acc.item()}\n",
        "    \n",
        "    def epoch_end(self, epoch, result):\n",
        "        print(\"Epoch [{}], val_loss: {:.4f}, val_acc: {:.4f}\".format(epoch, result['val_loss'], result['val_acc']))\n",
        "    \n",
        "model = MnistModel()"
      ],
      "execution_count": null,
      "outputs": []
    },
    {
      "cell_type": "markdown",
      "metadata": {
        "id": "ZPoO1yFEPFP3"
      },
      "source": [
        "Upon instantiating the class, random weight values and bias values are created. Hence the need for the training_step and validation_step methods. On the other hand, the validation_epoch_end and epoch_end methods are there to present the current performance to model."
      ]
    },
    {
      "cell_type": "markdown",
      "metadata": {
        "id": "FxkmUDtMPKM-"
      },
      "source": [
        "**Training the Model**"
      ]
    },
    {
      "cell_type": "markdown",
      "metadata": {
        "id": "ZYElKCw_PRDz"
      },
      "source": [
        "Here we will define the accuracy of the model by dividing the amount of times the model correctly predicts the image by the total number of input images."
      ]
    },
    {
      "cell_type": "code",
      "metadata": {
        "id": "yVd8WTia8Pg1"
      },
      "source": [
        "def accuracy(outputs, labels):\n",
        "    _, preds = torch.max(outputs, dim=1)\n",
        "    return torch.tensor(torch.sum(preds == labels).item() / len(preds))"
      ],
      "execution_count": null,
      "outputs": []
    },
    {
      "cell_type": "markdown",
      "metadata": {
        "id": "9e-QVvCMPhH_"
      },
      "source": [
        "Using Stochastic Gradient Descent to determine how well the model is improving."
      ]
    },
    {
      "cell_type": "markdown",
      "metadata": {
        "id": "jK_C8IMxR3Fm"
      },
      "source": [
        "Linear regression works by fitting a curve that represents the relationship between the data points.We aim to improve the model by gradually reaching the local minima of the loss function to minimize the losses.The rate of adjustment from the initial parameters to the new parameters is dictated by the learning rate. Earlier, the learning rate was defined to be 1e-5."
      ]
    },
    {
      "cell_type": "markdown",
      "metadata": {
        "id": "DGYjiMS3SF4l"
      },
      "source": [
        "The rate of adjustment from the initial parameters to the new parameters is dictated by the learning rate. Earlier, the learning rate was defined to be 1e-5."
      ]
    },
    {
      "cell_type": "code",
      "metadata": {
        "id": "A-HCii228PsS"
      },
      "source": [
        "def evaluate(model, val_loader):\n",
        "    outputs = [model.validation_step(batch) for batch in val_loader]\n",
        "    return model.validation_epoch_end(outputs)\n",
        "\n",
        "def fit(epochs, lr, model, train_loader, val_loader, opt_func=torch.optim.SGD):\n",
        "    history = []\n",
        "    optimizer = opt_func(model.parameters(), lr)\n",
        "    for epoch in range(epochs):\n",
        "        # Training Phase \n",
        "        for batch in train_loader:\n",
        "            loss = model.training_step(batch)\n",
        "            loss.backward()\n",
        "            optimizer.step()\n",
        "            optimizer.zero_grad()\n",
        "        # Validation phase\n",
        "        result = evaluate(model, val_loader)\n",
        "        model.epoch_end(epoch, result)\n",
        "        history.append(result)\n",
        "    return history"
      ],
      "execution_count": null,
      "outputs": []
    },
    {
      "cell_type": "markdown",
      "metadata": {
        "id": "tAX9rxGlSW7q"
      },
      "source": [
        "**Let’s evaluate our model.**\n"
      ]
    },
    {
      "cell_type": "code",
      "metadata": {
        "colab": {
          "base_uri": "https://localhost:8080/"
        },
        "id": "0BqkWJUj9P-O",
        "outputId": "0a7a197e-4fa1-4b9b-86ae-0e81b315f230"
      },
      "source": [
        "evaluate(model, val_loader)"
      ],
      "execution_count": null,
      "outputs": [
        {
          "output_type": "execute_result",
          "data": {
            "text/plain": [
              "{'val_acc': 0.03651751950383186, 'val_loss': 151.767333984375}"
            ]
          },
          "metadata": {
            "tags": []
          },
          "execution_count": 21
        }
      ]
    },
    {
      "cell_type": "markdown",
      "metadata": {
        "id": "R27RUbjASliP"
      },
      "source": [
        "Since the model parameters are random upon instantiation, it is expected that the accuracy is very low and the validation loss is high. "
      ]
    },
    {
      "cell_type": "markdown",
      "metadata": {
        "id": "zzZPMs4bSq9y"
      },
      "source": [
        "The next step is training the model for 50 epoch or 50 iterations with a learning rate of 1e-4."
      ]
    },
    {
      "cell_type": "code",
      "metadata": {
        "colab": {
          "base_uri": "https://localhost:8080/"
        },
        "id": "1jgPsuBi_EWH",
        "outputId": "0c6b0023-b1b8-44a6-bcaf-071708fb0200"
      },
      "source": [
        "history = fit(50, 1e-4, model, train_loader, val_loader)"
      ],
      "execution_count": null,
      "outputs": [
        {
          "output_type": "stream",
          "text": [
            "Epoch [0], val_loss: 433.2159, val_acc: 0.1763\n",
            "Epoch [1], val_loss: 367.5898, val_acc: 0.1021\n",
            "Epoch [2], val_loss: 253.6525, val_acc: 0.1605\n",
            "Epoch [3], val_loss: 193.5671, val_acc: 0.2184\n",
            "Epoch [4], val_loss: 184.9161, val_acc: 0.2495\n",
            "Epoch [5], val_loss: 86.6385, val_acc: 0.3615\n",
            "Epoch [6], val_loss: 110.7273, val_acc: 0.2702\n",
            "Epoch [7], val_loss: 79.0897, val_acc: 0.4066\n",
            "Epoch [8], val_loss: 104.5577, val_acc: 0.3600\n",
            "Epoch [9], val_loss: 79.0220, val_acc: 0.3539\n",
            "Epoch [10], val_loss: 124.3715, val_acc: 0.1544\n",
            "Epoch [11], val_loss: 124.9072, val_acc: 0.3344\n",
            "Epoch [12], val_loss: 42.9289, val_acc: 0.4388\n",
            "Epoch [13], val_loss: 44.7906, val_acc: 0.5585\n",
            "Epoch [14], val_loss: 29.1867, val_acc: 0.5704\n",
            "Epoch [15], val_loss: 33.0428, val_acc: 0.6072\n",
            "Epoch [16], val_loss: 41.6434, val_acc: 0.5677\n",
            "Epoch [17], val_loss: 14.4908, val_acc: 0.7072\n",
            "Epoch [18], val_loss: 19.5488, val_acc: 0.6668\n",
            "Epoch [19], val_loss: 42.0439, val_acc: 0.5765\n",
            "Epoch [20], val_loss: 64.0039, val_acc: 0.3316\n",
            "Epoch [21], val_loss: 34.0061, val_acc: 0.5285\n",
            "Epoch [22], val_loss: 26.2464, val_acc: 0.6396\n",
            "Epoch [23], val_loss: 15.1309, val_acc: 0.6759\n",
            "Epoch [24], val_loss: 10.3639, val_acc: 0.7648\n",
            "Epoch [25], val_loss: 38.6288, val_acc: 0.5625\n",
            "Epoch [26], val_loss: 13.3310, val_acc: 0.6833\n",
            "Epoch [27], val_loss: 15.0831, val_acc: 0.7761\n",
            "Epoch [28], val_loss: 118.5724, val_acc: 0.2397\n",
            "Epoch [29], val_loss: 4.9208, val_acc: 0.8240\n",
            "Epoch [30], val_loss: 10.3697, val_acc: 0.7347\n",
            "Epoch [31], val_loss: 12.7808, val_acc: 0.7119\n",
            "Epoch [32], val_loss: 5.9185, val_acc: 0.8334\n",
            "Epoch [33], val_loss: 45.5980, val_acc: 0.5566\n",
            "Epoch [34], val_loss: 29.7151, val_acc: 0.6897\n",
            "Epoch [35], val_loss: 5.4231, val_acc: 0.8490\n",
            "Epoch [36], val_loss: 28.9929, val_acc: 0.6547\n",
            "Epoch [37], val_loss: 3.4555, val_acc: 0.8627\n",
            "Epoch [38], val_loss: 6.9919, val_acc: 0.7966\n",
            "Epoch [39], val_loss: 3.9085, val_acc: 0.8310\n",
            "Epoch [40], val_loss: 1.5167, val_acc: 0.9058\n",
            "Epoch [41], val_loss: 1.2564, val_acc: 0.9335\n",
            "Epoch [42], val_loss: 3.9476, val_acc: 0.8332\n",
            "Epoch [43], val_loss: 4.5233, val_acc: 0.8450\n",
            "Epoch [44], val_loss: 13.1231, val_acc: 0.6794\n",
            "Epoch [45], val_loss: 5.1996, val_acc: 0.8180\n",
            "Epoch [46], val_loss: 22.0291, val_acc: 0.7047\n",
            "Epoch [47], val_loss: 15.5356, val_acc: 0.8378\n",
            "Epoch [48], val_loss: 17.2109, val_acc: 0.7156\n",
            "Epoch [49], val_loss: 5.8582, val_acc: 0.8596\n"
          ],
          "name": "stdout"
        }
      ]
    },
    {
      "cell_type": "markdown",
      "metadata": {
        "id": "W1uYph1bTG6S"
      },
      "source": [
        "**Visualizing model performance in graph.**"
      ]
    },
    {
      "cell_type": "code",
      "metadata": {
        "colab": {
          "base_uri": "https://localhost:8080/",
          "height": 295
        },
        "id": "MlIbA-1D_HWK",
        "outputId": "d5ba8aad-8203-4fbf-e3cc-85bd9dc4f982"
      },
      "source": [
        "# Visualizing how our model performed after each epoch\n",
        "accuracies = [r['val_acc'] for r in history]\n",
        "plt.plot(accuracies, '-x')\n",
        "plt.xlabel('epoch')\n",
        "plt.ylabel('accuracy')\n",
        "plt.title('Accuracy vs. No. of epochs');"
      ],
      "execution_count": null,
      "outputs": [
        {
          "output_type": "display_data",
          "data": {
            "image/png": "[encoded data removed]",
            "text/plain": [
              "<Figure size 432x288 with 1 Axes>"
            ]
          },
          "metadata": {
            "tags": [],
            "needs_background": "light"
          }
        }
      ]
    },
    {
      "cell_type": "markdown",
      "metadata": {
        "id": "E-LzXGZWTknq"
      },
      "source": [
        "As seen from the graph, as the amount of epochs increases, the accuracy of the model increases. However, it is worthy to note that the model was somewhat unstable as there are dips in the accuracy of the model. This could be attributed to a large learning rate."
      ]
    },
    {
      "cell_type": "markdown",
      "metadata": {
        "id": "aCDeBs2BTmRs"
      },
      "source": [
        "Trying to evaluate the model using the testing dataset."
      ]
    },
    {
      "cell_type": "code",
      "metadata": {
        "colab": {
          "base_uri": "https://localhost:8080/"
        },
        "id": "8f03AWT1_J6j",
        "outputId": "292ea96f-4544-48c0-b6ff-734693349ce7"
      },
      "source": [
        "# Evaluate on test dataset\n",
        "result = evaluate(model, test_loader)\n",
        "result"
      ],
      "execution_count": null,
      "outputs": [
        {
          "output_type": "execute_result",
          "data": {
            "text/plain": [
              "{'val_acc': 0.62890625, 'val_loss': 18.430368423461914}"
            ]
          },
          "metadata": {
            "tags": []
          },
          "execution_count": 24
        }
      ]
    },
    {
      "cell_type": "markdown",
      "metadata": {
        "id": "RRCmlbG-U052"
      },
      "source": [
        "The accuracy of the model is aproximately 60%."
      ]
    },
    {
      "cell_type": "markdown",
      "metadata": {
        "id": "7fkw4grkVas0"
      },
      "source": [
        "**Using the Model to Predict Images**"
      ]
    },
    {
      "cell_type": "markdown",
      "metadata": {
        "id": "gWvET7tSVsrV"
      },
      "source": [
        "Now creating a helper function to pass an image to the model and return the model prediction. The code for this function is :"
      ]
    },
    {
      "cell_type": "code",
      "metadata": {
        "id": "JQZa1EoB_Wvi"
      },
      "source": [
        "def predict_image(img, model):\n",
        "    xb = img.unsqueeze(0)\n",
        "    yb = model(xb)\n",
        "    _, preds  = torch.max(yb, dim=1)\n",
        "    return preds[0].item()"
      ],
      "execution_count": null,
      "outputs": []
    },
    {
      "cell_type": "markdown",
      "metadata": {
        "id": "l8wqZUWFWB_R"
      },
      "source": [
        "Running the function."
      ]
    },
    {
      "cell_type": "code",
      "metadata": {
        "colab": {
          "base_uri": "https://localhost:8080/",
          "height": 282
        },
        "id": "qKDM6tndBc8k",
        "outputId": "fd57b8a9-f1f3-4fee-a09f-afb2d4f47861"
      },
      "source": [
        "img, label = testdataset[919]\n",
        "plt.imshow(img.reshape(28,28), cmap='gray')\n",
        "print('Label:', letters[label.item()], ', Predicted:', letters[predict_image(img, model)])"
      ],
      "execution_count": null,
      "outputs": [
        {
          "output_type": "stream",
          "text": [
            "Label: H , Predicted: H\n"
          ],
          "name": "stdout"
        },
        {
          "output_type": "display_data",
          "data": {
            "image/png": "[encoded data removed]",
            "text/plain": [
              "<Figure size 432x288 with 1 Axes>"
            ]
          },
          "metadata": {
            "tags": [],
            "needs_background": "light"
          }
        }
      ]
    },
    {
      "cell_type": "markdown",
      "metadata": {
        "id": "853hS6oRWRDc"
      },
      "source": [
        "In this example, the model correctly predicts the letter portrayed by the hand image. Let’s try another one."
      ]
    },
    {
      "cell_type": "code",
      "metadata": {
        "colab": {
          "base_uri": "https://localhost:8080/",
          "height": 282
        },
        "id": "NP2hEUCfBfWx",
        "outputId": "7edf0d39-392c-4df8-f72b-d3b994413360"
      },
      "source": [
        "img, label = testdataset[19]\n",
        "plt.imshow(img.reshape(28,28), cmap='gray')\n",
        "print('Label:', letters[label.item()], ', Predicted:', letters[predict_image(img, model)])"
      ],
      "execution_count": null,
      "outputs": [
        {
          "output_type": "stream",
          "text": [
            "Label: H , Predicted: H\n"
          ],
          "name": "stdout"
        },
        {
          "output_type": "display_data",
          "data": {
            "image/png": "[encoded data removed]",
            "text/plain": [
              "<Figure size 432x288 with 1 Axes>"
            ]
          },
          "metadata": {
            "tags": [],
            "needs_background": "light"
          }
        }
      ]
    },
    {
      "cell_type": "markdown",
      "metadata": {
        "id": "84fguFtrWzYt"
      },
      "source": [
        "**Saving the Model**"
      ]
    },
    {
      "cell_type": "code",
      "metadata": {
        "id": "YViy4CthB2OJ"
      },
      "source": [
        "# Here the model parameters are saved so that we dont have to train the model next time\n",
        "torch.save(model.state_dict(), 'mnist-logistic.pth')"
      ],
      "execution_count": null,
      "outputs": []
    },
    {
      "cell_type": "code",
      "metadata": {
        "colab": {
          "base_uri": "https://localhost:8080/"
        },
        "id": "gE6xfcgMCBHE",
        "outputId": "95cdb416-38d6-4ddc-d132-f6393570218f"
      },
      "source": [
        "# Let's look at the model parameters\n",
        "model.state_dict()"
      ],
      "execution_count": null,
      "outputs": [
        {
          "output_type": "execute_result",
          "data": {
            "text/plain": [
              "OrderedDict([('linear.weight',\n",
              "              tensor([[ 0.0005,  0.0229,  0.0347,  ...,  0.0031,  0.0220, -0.0252],\n",
              "                      [ 0.0029,  0.0163,  0.0350,  ...,  0.0331, -0.0395, -0.0018],\n",
              "                      [ 0.0348, -0.0136,  0.0265,  ..., -0.0067,  0.0593,  0.0193],\n",
              "                      ...,\n",
              "                      [ 0.0397,  0.0102, -0.0142,  ...,  0.0106,  0.0433,  0.0165],\n",
              "                      [ 0.0238, -0.0233,  0.0097,  ..., -0.0093, -0.0464, -0.0177],\n",
              "                      [ 0.0083,  0.0282, -0.0126,  ..., -0.0285, -0.0250, -0.0312]])),\n",
              "             ('linear.bias',\n",
              "              tensor([-0.0194,  0.0095, -0.0125,  0.0187,  0.0246,  0.0275,  0.0046,  0.0349,\n",
              "                       0.0183, -0.0338,  0.0070, -0.0195,  0.0256,  0.0324,  0.0149,  0.0063,\n",
              "                       0.0049, -0.0036, -0.0070,  0.0305, -0.0266, -0.0180,  0.0124, -0.0280,\n",
              "                      -0.0029, -0.0084]))])"
            ]
          },
          "metadata": {
            "tags": []
          },
          "execution_count": 29
        }
      ]
    },
    {
      "cell_type": "markdown",
      "metadata": {
        "id": "y6YsJQRwXF9j"
      },
      "source": [
        "**Conclusion**"
      ]
    },
    {
      "cell_type": "markdown",
      "metadata": {
        "id": "Zp_BdmgTXO1C"
      },
      "source": [
        "Logistic regression was used to construct the model with accuracy aproximately 50%. From the trend of the performance of the model, increasing the number of training epochs also increases the training accuracy of the model. However, the training accuracy of the model will somewhat plateau at about 80–90%."
      ]
    },
    {
      "cell_type": "markdown",
      "metadata": {
        "id": "yP4tM2EnXYXc"
      },
      "source": [
        "This may be the limitation of constructing the model using just logistic regression. Other more sophisticated models could result to a higher accuracy."
      ]
    }
  ]
}